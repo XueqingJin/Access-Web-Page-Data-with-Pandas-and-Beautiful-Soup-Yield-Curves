{
 "cells": [
  {
   "cell_type": "markdown",
   "metadata": {},
   "source": [
    "# Part B – Accessing a Web Page Table Using Beautiful Soup "
   ]
  },
  {
   "cell_type": "code",
   "execution_count": 10,
   "metadata": {},
   "outputs": [],
   "source": [
    "# import the packages\n",
    "import requests \n",
    "from bs4 import BeautifulSoup \n",
    "import numpy as np"
   ]
  },
  {
   "cell_type": "code",
   "execution_count": 2,
   "metadata": {},
   "outputs": [],
   "source": [
    "urlString='https://www.treasury.gov/resource-center/data-chart-center/interest-rates/Pages/TextView.aspx?data=yield'\n",
    "page = requests.get(urlString)\n",
    "soup = BeautifulSoup(page.content, 'html.parser')"
   ]
  },
  {
   "cell_type": "code",
   "execution_count": 3,
   "metadata": {},
   "outputs": [
    {
     "name": "stdout",
     "output_type": "stream",
     "text": [
      "None\n"
     ]
    }
   ],
   "source": [
    "t_chart = soup.find(class_=\"t-chart\")\n",
    "table_body = t_chart.find(\"tbody\")\n",
    "print(table_body)"
   ]
  },
  {
   "cell_type": "code",
   "execution_count": 4,
   "metadata": {},
   "outputs": [
    {
     "name": "stdout",
     "output_type": "stream",
     "text": [
      "02/03/20 1.56 1.57 1.57 1.56 1.46 1.36 1.34 1.35\n",
      "02/04/20 1.55 1.57 1.57 1.57 1.48 1.41 1.40 1.42\n",
      "02/05/20 1.55 1.56 1.57 1.57 1.49 1.44 1.43 1.46\n",
      "02/06/20 1.59 1.59 1.57 1.58 1.51 1.44 1.43 1.45\n",
      "02/07/20 1.57 1.58 1.56 1.57 1.49 1.41 1.39 1.41\n",
      "02/10/20 1.58 1.58 1.58 1.58 1.45 1.37 1.36 1.38\n"
     ]
    }
   ],
   "source": [
    "col0 = []\n",
    "col1 = []\n",
    "col2 = []\n",
    "col3 = []\n",
    "col4 = []\n",
    "col5 = []\n",
    "col6 = []\n",
    "col7 = []\n",
    "col8 = []\n",
    "tableRows = t_chart.find_all('tr') # within the found node, find all the <tr> (rows)\n",
    "for row in tableRows:\n",
    "    cells = row.findAll('td') # within the row, find each <td> (cell)\n",
    "    if (len(cells) > 0):\n",
    "       cell0 = cells[0].text.strip()\n",
    "       col0.append(cell0)        \n",
    "       cell1 = cells[1].text.strip()\n",
    "       col1.append(cell1)        \n",
    "       cell2 = cells[2].text.strip()\n",
    "       col2.append(cell2)        \n",
    "       cell3 = cells[3].text.strip()\n",
    "       col3.append(cell3)\n",
    "       cell4 = cells[4].text.strip()\n",
    "       col4.append(cell4) \n",
    "       cell5 = cells[5].text.strip()\n",
    "       col5.append(cell5) \n",
    "       cell6 = cells[6].text.strip()\n",
    "       col6.append(cell6) \n",
    "       cell7 = cells[7].text.strip()\n",
    "       col7.append(cell7) \n",
    "       cell8 = cells[8].text.strip()\n",
    "       col8.append(cell8)\n",
    "       print(cell0, cell1, cell2, cell3, cell4, cell5, cell6, cell7, cell8, sep=\" \")\n"
   ]
  },
  {
   "cell_type": "code",
   "execution_count": 5,
   "metadata": {},
   "outputs": [
    {
     "data": {
      "text/html": [
       "<div>\n",
       "<style scoped>\n",
       "    .dataframe tbody tr th:only-of-type {\n",
       "        vertical-align: middle;\n",
       "    }\n",
       "\n",
       "    .dataframe tbody tr th {\n",
       "        vertical-align: top;\n",
       "    }\n",
       "\n",
       "    .dataframe thead th {\n",
       "        text-align: right;\n",
       "    }\n",
       "</style>\n",
       "<table border=\"1\" class=\"dataframe\">\n",
       "  <thead>\n",
       "    <tr style=\"text-align: right;\">\n",
       "      <th></th>\n",
       "      <th>1mo</th>\n",
       "      <th>3mo</th>\n",
       "      <th>6mo</th>\n",
       "      <th>1yr</th>\n",
       "      <th>2yr</th>\n",
       "      <th>5yr</th>\n",
       "      <th>10yr</th>\n",
       "      <th>30yr</th>\n",
       "    </tr>\n",
       "  </thead>\n",
       "  <tbody>\n",
       "    <tr>\n",
       "      <th>02/03/20</th>\n",
       "      <td>1.56</td>\n",
       "      <td>1.57</td>\n",
       "      <td>1.57</td>\n",
       "      <td>1.56</td>\n",
       "      <td>1.46</td>\n",
       "      <td>1.36</td>\n",
       "      <td>1.34</td>\n",
       "      <td>1.35</td>\n",
       "    </tr>\n",
       "    <tr>\n",
       "      <th>02/04/20</th>\n",
       "      <td>1.55</td>\n",
       "      <td>1.57</td>\n",
       "      <td>1.57</td>\n",
       "      <td>1.57</td>\n",
       "      <td>1.48</td>\n",
       "      <td>1.41</td>\n",
       "      <td>1.40</td>\n",
       "      <td>1.42</td>\n",
       "    </tr>\n",
       "    <tr>\n",
       "      <th>02/05/20</th>\n",
       "      <td>1.55</td>\n",
       "      <td>1.56</td>\n",
       "      <td>1.57</td>\n",
       "      <td>1.57</td>\n",
       "      <td>1.49</td>\n",
       "      <td>1.44</td>\n",
       "      <td>1.43</td>\n",
       "      <td>1.46</td>\n",
       "    </tr>\n",
       "    <tr>\n",
       "      <th>02/06/20</th>\n",
       "      <td>1.59</td>\n",
       "      <td>1.59</td>\n",
       "      <td>1.57</td>\n",
       "      <td>1.58</td>\n",
       "      <td>1.51</td>\n",
       "      <td>1.44</td>\n",
       "      <td>1.43</td>\n",
       "      <td>1.45</td>\n",
       "    </tr>\n",
       "    <tr>\n",
       "      <th>02/07/20</th>\n",
       "      <td>1.57</td>\n",
       "      <td>1.58</td>\n",
       "      <td>1.56</td>\n",
       "      <td>1.57</td>\n",
       "      <td>1.49</td>\n",
       "      <td>1.41</td>\n",
       "      <td>1.39</td>\n",
       "      <td>1.41</td>\n",
       "    </tr>\n",
       "    <tr>\n",
       "      <th>02/10/20</th>\n",
       "      <td>1.58</td>\n",
       "      <td>1.58</td>\n",
       "      <td>1.58</td>\n",
       "      <td>1.58</td>\n",
       "      <td>1.45</td>\n",
       "      <td>1.37</td>\n",
       "      <td>1.36</td>\n",
       "      <td>1.38</td>\n",
       "    </tr>\n",
       "  </tbody>\n",
       "</table>\n",
       "</div>"
      ],
      "text/plain": [
       "           1mo   3mo   6mo   1yr   2yr   5yr  10yr  30yr\n",
       "02/03/20  1.56  1.57  1.57  1.56  1.46  1.36  1.34  1.35\n",
       "02/04/20  1.55  1.57  1.57  1.57  1.48  1.41  1.40  1.42\n",
       "02/05/20  1.55  1.56  1.57  1.57  1.49  1.44  1.43  1.46\n",
       "02/06/20  1.59  1.59  1.57  1.58  1.51  1.44  1.43  1.45\n",
       "02/07/20  1.57  1.58  1.56  1.57  1.49  1.41  1.39  1.41\n",
       "02/10/20  1.58  1.58  1.58  1.58  1.45  1.37  1.36  1.38"
      ]
     },
     "execution_count": 5,
     "metadata": {},
     "output_type": "execute_result"
    }
   ],
   "source": [
    "import pandas as pd\n",
    "df = pd.DataFrame({\"1mo\":col1,\"3mo\":col2,\"6mo\":col3,\"1yr\":col4,\"2yr\":col5,\"5yr\":col6,\"10yr\":col7,\"30yr\":col8}, index=col0)\n",
    "df"
   ]
  },
  {
   "cell_type": "code",
   "execution_count": 6,
   "metadata": {},
   "outputs": [
    {
     "data": {
      "text/html": [
       "<div>\n",
       "<style scoped>\n",
       "    .dataframe tbody tr th:only-of-type {\n",
       "        vertical-align: middle;\n",
       "    }\n",
       "\n",
       "    .dataframe tbody tr th {\n",
       "        vertical-align: top;\n",
       "    }\n",
       "\n",
       "    .dataframe thead th {\n",
       "        text-align: right;\n",
       "    }\n",
       "</style>\n",
       "<table border=\"1\" class=\"dataframe\">\n",
       "  <thead>\n",
       "    <tr style=\"text-align: right;\">\n",
       "      <th></th>\n",
       "      <th>1mo</th>\n",
       "      <th>3mo</th>\n",
       "      <th>6mo</th>\n",
       "      <th>1yr</th>\n",
       "      <th>2yr</th>\n",
       "      <th>5yr</th>\n",
       "      <th>10yr</th>\n",
       "      <th>30yr</th>\n",
       "    </tr>\n",
       "  </thead>\n",
       "  <tbody>\n",
       "    <tr>\n",
       "      <th>02/10/20</th>\n",
       "      <td>1.58</td>\n",
       "      <td>1.58</td>\n",
       "      <td>1.58</td>\n",
       "      <td>1.58</td>\n",
       "      <td>1.45</td>\n",
       "      <td>1.37</td>\n",
       "      <td>1.36</td>\n",
       "      <td>1.38</td>\n",
       "    </tr>\n",
       "  </tbody>\n",
       "</table>\n",
       "</div>"
      ],
      "text/plain": [
       "           1mo   3mo   6mo   1yr   2yr   5yr  10yr  30yr\n",
       "02/10/20  1.58  1.58  1.58  1.58  1.45  1.37  1.36  1.38"
      ]
     },
     "execution_count": 6,
     "metadata": {},
     "output_type": "execute_result"
    }
   ],
   "source": [
    "#extract the latest yields\n",
    "row = df.iloc[-1:]\n",
    "row"
   ]
  },
  {
   "cell_type": "code",
   "execution_count": 7,
   "metadata": {},
   "outputs": [],
   "source": [
    "#Plot the latest yield curve.\n",
    "import matplotlib.pyplot as plt"
   ]
  },
  {
   "cell_type": "code",
   "execution_count": 21,
   "metadata": {},
   "outputs": [
    {
     "data": {
      "image/png": "[encoded data removed]",
      "text/plain": [
       "<Figure size 432x288 with 1 Axes>"
      ]
     },
     "metadata": {
      "needs_background": "light"
     },
     "output_type": "display_data"
    }
   ],
   "source": [
    "df.iloc[-1] = df.iloc[-1].astype(float)\n",
    "y_value = df.iloc[-1]\n",
    "x_value = [1/12, 3/12, 6/12, 1, 2, 5, 10, 30]\n",
    "plt.scatter(x_value, y_value)\n",
    "plt.show()"
   ]
  },
  {
   "cell_type": "code",
   "execution_count": 22,
   "metadata": {},
   "outputs": [
    {
     "data": {
      "image/png": "[encoded data removed]",
      "text/plain": [
       "<Figure size 864x216 with 2 Axes>"
      ]
     },
     "metadata": {
      "needs_background": "light"
     },
     "output_type": "display_data"
    }
   ],
   "source": [
    "#Plot the time series of the 2 year and 10 year\n",
    "fig = plt.figure(figsize=(12,3))\n",
    "ax1, ax2 = fig.subplots(1, 2)\n",
    "df[\"2yr\"] = df[\"2yr\"].astype(float)\n",
    "df[\"10yr\"] = df[\"10yr\"].astype(float)\n",
    "ax1.plot(df[\"2yr\"])\n",
    "ax2.plot(df[\"10yr\"])\n",
    "plt.legend() \n",
    "plt.show()"
   ]
  },
  {
   "cell_type": "code",
   "execution_count": 23,
   "metadata": {},
   "outputs": [
    {
     "data": {
      "image/png": "[encoded data removed]",
      "text/plain": [
       "<Figure size 432x288 with 1 Axes>"
      ]
     },
     "metadata": {
      "needs_background": "light"
     },
     "output_type": "display_data"
    }
   ],
   "source": [
    "df[\"2yr\"] = df[\"2yr\"].astype(float)\n",
    "df[\"10yr\"] = df[\"10yr\"].astype(float)\n",
    "ax1 = df[\"2yr\"]\n",
    "ax2 = df[\"10yr\"]\n",
    "plt.figure()\n",
    "plt.plot(ax1, label='2yr')\n",
    "plt.plot(ax2, label='10yr')\n",
    "plt.legend()\n",
    "plt.xlabel('Date')\n",
    "plt.ylabel('yield')\n",
    "\n",
    "plt.show()"
   ]
  },
  {
   "cell_type": "code",
   "execution_count": null,
   "metadata": {},
   "outputs": [],
   "source": []
  }
 ],
 "metadata": {
  "kernelspec": {
   "display_name": "Python 3",
   "language": "python",
   "name": "python3"
  },
  "language_info": {
   "codemirror_mode": {
    "name": "ipython",
    "version": 3
   },
   "file_extension": ".py",
   "mimetype": "text/x-python",
   "name": "python",
   "nbconvert_exporter": "python",
   "pygments_lexer": "ipython3",
   "version": "3.7.1"
  }
 },
 "nbformat": 4,
 "nbformat_minor": 2
}
